{
 "cells": [
  {
   "cell_type": "code",
   "execution_count": 53,
   "metadata": {},
   "outputs": [],
   "source": [
    "import pandas as pd\n",
    "import numpy as np\n",
    "import matplotlib.pyplot as plt \n",
    "import seaborn as sns\n",
    "import warnings\n",
    "import time\n",
    "from collections import Counter\n",
    "from numpy import mean\n",
    "from sklearn.model_selection import cross_val_score\n",
    "from sklearn.model_selection import RepeatedStratifiedKFold\n",
    "from sklearn.tree import DecisionTreeClassifier\n",
    "from sklearn.naive_bayes import MultinomialNB\n",
    "from sklearn.neighbors import KNeighborsClassifier\n",
    "from sklearn.model_selection import train_test_split\n",
    "from sklearn.metrics import accuracy_score\n",
    "from imblearn.pipeline import Pipeline\n",
    "from imblearn.over_sampling import SMOTE\n",
    "from imblearn.under_sampling import RandomUnderSampler\n",
    "from sklearn.model_selection import validation_curve\n",
    "warnings.simplefilter(action='ignore', category=FutureWarning)\n",
    "import warnings\n",
    "warnings.filterwarnings('ignore')"
   ]
  },
  {
   "cell_type": "code",
   "execution_count": 11,
   "metadata": {},
   "outputs": [
    {
     "name": "stderr",
     "output_type": "stream",
     "text": [
      "D:\\Anaconda\\lib\\site-packages\\IPython\\core\\interactiveshell.py:3146: DtypeWarning: Columns (1,2,3,4,5) have mixed types.Specify dtype option on import or set low_memory=False.\n",
      "  has_raised = await self.run_ast_nodes(code_ast.body, cell_name,\n"
     ]
    },
    {
     "data": {
      "text/html": [
       "<div>\n",
       "<style scoped>\n",
       "    .dataframe tbody tr th:only-of-type {\n",
       "        vertical-align: middle;\n",
       "    }\n",
       "\n",
       "    .dataframe tbody tr th {\n",
       "        vertical-align: top;\n",
       "    }\n",
       "\n",
       "    .dataframe thead th {\n",
       "        text-align: right;\n",
       "    }\n",
       "</style>\n",
       "<table border=\"1\" class=\"dataframe\">\n",
       "  <thead>\n",
       "    <tr style=\"text-align: right;\">\n",
       "      <th></th>\n",
       "      <th>test_date</th>\n",
       "      <th>cough</th>\n",
       "      <th>fever</th>\n",
       "      <th>sore_throat</th>\n",
       "      <th>shortness_of_breath</th>\n",
       "      <th>head_ache</th>\n",
       "      <th>corona_result</th>\n",
       "      <th>age_60_and_above</th>\n",
       "      <th>gender</th>\n",
       "      <th>test_indication</th>\n",
       "    </tr>\n",
       "  </thead>\n",
       "  <tbody>\n",
       "    <tr>\n",
       "      <th>0</th>\n",
       "      <td>2020-04-30</td>\n",
       "      <td>0</td>\n",
       "      <td>0</td>\n",
       "      <td>0</td>\n",
       "      <td>0</td>\n",
       "      <td>0</td>\n",
       "      <td>negative</td>\n",
       "      <td>None</td>\n",
       "      <td>female</td>\n",
       "      <td>Other</td>\n",
       "    </tr>\n",
       "    <tr>\n",
       "      <th>1</th>\n",
       "      <td>2020-04-30</td>\n",
       "      <td>1</td>\n",
       "      <td>0</td>\n",
       "      <td>0</td>\n",
       "      <td>0</td>\n",
       "      <td>0</td>\n",
       "      <td>negative</td>\n",
       "      <td>None</td>\n",
       "      <td>female</td>\n",
       "      <td>Other</td>\n",
       "    </tr>\n",
       "    <tr>\n",
       "      <th>2</th>\n",
       "      <td>2020-04-30</td>\n",
       "      <td>0</td>\n",
       "      <td>1</td>\n",
       "      <td>0</td>\n",
       "      <td>0</td>\n",
       "      <td>0</td>\n",
       "      <td>negative</td>\n",
       "      <td>None</td>\n",
       "      <td>male</td>\n",
       "      <td>Other</td>\n",
       "    </tr>\n",
       "    <tr>\n",
       "      <th>3</th>\n",
       "      <td>2020-04-30</td>\n",
       "      <td>1</td>\n",
       "      <td>0</td>\n",
       "      <td>0</td>\n",
       "      <td>0</td>\n",
       "      <td>0</td>\n",
       "      <td>negative</td>\n",
       "      <td>None</td>\n",
       "      <td>female</td>\n",
       "      <td>Other</td>\n",
       "    </tr>\n",
       "    <tr>\n",
       "      <th>4</th>\n",
       "      <td>2020-04-30</td>\n",
       "      <td>1</td>\n",
       "      <td>0</td>\n",
       "      <td>0</td>\n",
       "      <td>0</td>\n",
       "      <td>0</td>\n",
       "      <td>negative</td>\n",
       "      <td>None</td>\n",
       "      <td>male</td>\n",
       "      <td>Other</td>\n",
       "    </tr>\n",
       "    <tr>\n",
       "      <th>...</th>\n",
       "      <td>...</td>\n",
       "      <td>...</td>\n",
       "      <td>...</td>\n",
       "      <td>...</td>\n",
       "      <td>...</td>\n",
       "      <td>...</td>\n",
       "      <td>...</td>\n",
       "      <td>...</td>\n",
       "      <td>...</td>\n",
       "      <td>...</td>\n",
       "    </tr>\n",
       "    <tr>\n",
       "      <th>274951</th>\n",
       "      <td>2020-03-11</td>\n",
       "      <td>0</td>\n",
       "      <td>0</td>\n",
       "      <td>0</td>\n",
       "      <td>0</td>\n",
       "      <td>0</td>\n",
       "      <td>negative</td>\n",
       "      <td>None</td>\n",
       "      <td>None</td>\n",
       "      <td>Other</td>\n",
       "    </tr>\n",
       "    <tr>\n",
       "      <th>274952</th>\n",
       "      <td>2020-03-11</td>\n",
       "      <td>0</td>\n",
       "      <td>0</td>\n",
       "      <td>0</td>\n",
       "      <td>0</td>\n",
       "      <td>0</td>\n",
       "      <td>negative</td>\n",
       "      <td>None</td>\n",
       "      <td>None</td>\n",
       "      <td>Other</td>\n",
       "    </tr>\n",
       "    <tr>\n",
       "      <th>274953</th>\n",
       "      <td>2020-03-11</td>\n",
       "      <td>0</td>\n",
       "      <td>0</td>\n",
       "      <td>0</td>\n",
       "      <td>0</td>\n",
       "      <td>0</td>\n",
       "      <td>negative</td>\n",
       "      <td>None</td>\n",
       "      <td>None</td>\n",
       "      <td>Other</td>\n",
       "    </tr>\n",
       "    <tr>\n",
       "      <th>274954</th>\n",
       "      <td>2020-03-11</td>\n",
       "      <td>0</td>\n",
       "      <td>0</td>\n",
       "      <td>0</td>\n",
       "      <td>0</td>\n",
       "      <td>0</td>\n",
       "      <td>positive</td>\n",
       "      <td>None</td>\n",
       "      <td>None</td>\n",
       "      <td>Contact with confirmed</td>\n",
       "    </tr>\n",
       "    <tr>\n",
       "      <th>274955</th>\n",
       "      <td>2020-03-11</td>\n",
       "      <td>0</td>\n",
       "      <td>0</td>\n",
       "      <td>0</td>\n",
       "      <td>0</td>\n",
       "      <td>0</td>\n",
       "      <td>negative</td>\n",
       "      <td>None</td>\n",
       "      <td>None</td>\n",
       "      <td>Other</td>\n",
       "    </tr>\n",
       "  </tbody>\n",
       "</table>\n",
       "<p>274956 rows × 10 columns</p>\n",
       "</div>"
      ],
      "text/plain": [
       "         test_date cough fever sore_throat shortness_of_breath head_ache  \\\n",
       "0       2020-04-30     0     0           0                   0         0   \n",
       "1       2020-04-30     1     0           0                   0         0   \n",
       "2       2020-04-30     0     1           0                   0         0   \n",
       "3       2020-04-30     1     0           0                   0         0   \n",
       "4       2020-04-30     1     0           0                   0         0   \n",
       "...            ...   ...   ...         ...                 ...       ...   \n",
       "274951  2020-03-11     0     0           0                   0         0   \n",
       "274952  2020-03-11     0     0           0                   0         0   \n",
       "274953  2020-03-11     0     0           0                   0         0   \n",
       "274954  2020-03-11     0     0           0                   0         0   \n",
       "274955  2020-03-11     0     0           0                   0         0   \n",
       "\n",
       "       corona_result age_60_and_above  gender         test_indication  \n",
       "0           negative             None  female                   Other  \n",
       "1           negative             None  female                   Other  \n",
       "2           negative             None    male                   Other  \n",
       "3           negative             None  female                   Other  \n",
       "4           negative             None    male                   Other  \n",
       "...              ...              ...     ...                     ...  \n",
       "274951      negative             None    None                   Other  \n",
       "274952      negative             None    None                   Other  \n",
       "274953      negative             None    None                   Other  \n",
       "274954      positive             None    None  Contact with confirmed  \n",
       "274955      negative             None    None                   Other  \n",
       "\n",
       "[274956 rows x 10 columns]"
      ]
     },
     "execution_count": 11,
     "metadata": {},
     "output_type": "execute_result"
    }
   ],
   "source": [
    "df = pd.read_csv('corona_tested_individuals_ver_006.english.csv')\n",
    "df"
   ]
  },
  {
   "cell_type": "code",
   "execution_count": 12,
   "metadata": {},
   "outputs": [],
   "source": [
    "df_copy = df.copy()"
   ]
  },
  {
   "cell_type": "markdown",
   "metadata": {},
   "source": [
    "### Pre-processing"
   ]
  },
  {
   "cell_type": "code",
   "execution_count": 13,
   "metadata": {},
   "outputs": [],
   "source": [
    "df.drop(['test_date'], axis=1, inplace=True)"
   ]
  },
  {
   "cell_type": "code",
   "execution_count": 14,
   "metadata": {},
   "outputs": [
    {
     "data": {
      "text/html": [
       "<div>\n",
       "<style scoped>\n",
       "    .dataframe tbody tr th:only-of-type {\n",
       "        vertical-align: middle;\n",
       "    }\n",
       "\n",
       "    .dataframe tbody tr th {\n",
       "        vertical-align: top;\n",
       "    }\n",
       "\n",
       "    .dataframe thead th {\n",
       "        text-align: right;\n",
       "    }\n",
       "</style>\n",
       "<table border=\"1\" class=\"dataframe\">\n",
       "  <thead>\n",
       "    <tr style=\"text-align: right;\">\n",
       "      <th></th>\n",
       "      <th>cough</th>\n",
       "      <th>fever</th>\n",
       "      <th>sore_throat</th>\n",
       "      <th>shortness_of_breath</th>\n",
       "      <th>head_ache</th>\n",
       "      <th>corona_result</th>\n",
       "      <th>age_60_and_above</th>\n",
       "      <th>gender</th>\n",
       "      <th>test_indication</th>\n",
       "    </tr>\n",
       "  </thead>\n",
       "  <tbody>\n",
       "    <tr>\n",
       "      <th>0</th>\n",
       "      <td>0</td>\n",
       "      <td>0</td>\n",
       "      <td>0</td>\n",
       "      <td>0</td>\n",
       "      <td>0</td>\n",
       "      <td>negative</td>\n",
       "      <td>None</td>\n",
       "      <td>female</td>\n",
       "      <td>Other</td>\n",
       "    </tr>\n",
       "    <tr>\n",
       "      <th>1</th>\n",
       "      <td>1</td>\n",
       "      <td>0</td>\n",
       "      <td>0</td>\n",
       "      <td>0</td>\n",
       "      <td>0</td>\n",
       "      <td>negative</td>\n",
       "      <td>None</td>\n",
       "      <td>female</td>\n",
       "      <td>Other</td>\n",
       "    </tr>\n",
       "    <tr>\n",
       "      <th>2</th>\n",
       "      <td>0</td>\n",
       "      <td>1</td>\n",
       "      <td>0</td>\n",
       "      <td>0</td>\n",
       "      <td>0</td>\n",
       "      <td>negative</td>\n",
       "      <td>None</td>\n",
       "      <td>male</td>\n",
       "      <td>Other</td>\n",
       "    </tr>\n",
       "    <tr>\n",
       "      <th>3</th>\n",
       "      <td>1</td>\n",
       "      <td>0</td>\n",
       "      <td>0</td>\n",
       "      <td>0</td>\n",
       "      <td>0</td>\n",
       "      <td>negative</td>\n",
       "      <td>None</td>\n",
       "      <td>female</td>\n",
       "      <td>Other</td>\n",
       "    </tr>\n",
       "    <tr>\n",
       "      <th>4</th>\n",
       "      <td>1</td>\n",
       "      <td>0</td>\n",
       "      <td>0</td>\n",
       "      <td>0</td>\n",
       "      <td>0</td>\n",
       "      <td>negative</td>\n",
       "      <td>None</td>\n",
       "      <td>male</td>\n",
       "      <td>Other</td>\n",
       "    </tr>\n",
       "    <tr>\n",
       "      <th>...</th>\n",
       "      <td>...</td>\n",
       "      <td>...</td>\n",
       "      <td>...</td>\n",
       "      <td>...</td>\n",
       "      <td>...</td>\n",
       "      <td>...</td>\n",
       "      <td>...</td>\n",
       "      <td>...</td>\n",
       "      <td>...</td>\n",
       "    </tr>\n",
       "    <tr>\n",
       "      <th>274951</th>\n",
       "      <td>0</td>\n",
       "      <td>0</td>\n",
       "      <td>0</td>\n",
       "      <td>0</td>\n",
       "      <td>0</td>\n",
       "      <td>negative</td>\n",
       "      <td>None</td>\n",
       "      <td>None</td>\n",
       "      <td>Other</td>\n",
       "    </tr>\n",
       "    <tr>\n",
       "      <th>274952</th>\n",
       "      <td>0</td>\n",
       "      <td>0</td>\n",
       "      <td>0</td>\n",
       "      <td>0</td>\n",
       "      <td>0</td>\n",
       "      <td>negative</td>\n",
       "      <td>None</td>\n",
       "      <td>None</td>\n",
       "      <td>Other</td>\n",
       "    </tr>\n",
       "    <tr>\n",
       "      <th>274953</th>\n",
       "      <td>0</td>\n",
       "      <td>0</td>\n",
       "      <td>0</td>\n",
       "      <td>0</td>\n",
       "      <td>0</td>\n",
       "      <td>negative</td>\n",
       "      <td>None</td>\n",
       "      <td>None</td>\n",
       "      <td>Other</td>\n",
       "    </tr>\n",
       "    <tr>\n",
       "      <th>274954</th>\n",
       "      <td>0</td>\n",
       "      <td>0</td>\n",
       "      <td>0</td>\n",
       "      <td>0</td>\n",
       "      <td>0</td>\n",
       "      <td>positive</td>\n",
       "      <td>None</td>\n",
       "      <td>None</td>\n",
       "      <td>Contact with confirmed</td>\n",
       "    </tr>\n",
       "    <tr>\n",
       "      <th>274955</th>\n",
       "      <td>0</td>\n",
       "      <td>0</td>\n",
       "      <td>0</td>\n",
       "      <td>0</td>\n",
       "      <td>0</td>\n",
       "      <td>negative</td>\n",
       "      <td>None</td>\n",
       "      <td>None</td>\n",
       "      <td>Other</td>\n",
       "    </tr>\n",
       "  </tbody>\n",
       "</table>\n",
       "<p>274956 rows × 9 columns</p>\n",
       "</div>"
      ],
      "text/plain": [
       "       cough fever sore_throat shortness_of_breath head_ache corona_result  \\\n",
       "0          0     0           0                   0         0      negative   \n",
       "1          1     0           0                   0         0      negative   \n",
       "2          0     1           0                   0         0      negative   \n",
       "3          1     0           0                   0         0      negative   \n",
       "4          1     0           0                   0         0      negative   \n",
       "...      ...   ...         ...                 ...       ...           ...   \n",
       "274951     0     0           0                   0         0      negative   \n",
       "274952     0     0           0                   0         0      negative   \n",
       "274953     0     0           0                   0         0      negative   \n",
       "274954     0     0           0                   0         0      positive   \n",
       "274955     0     0           0                   0         0      negative   \n",
       "\n",
       "       age_60_and_above  gender         test_indication  \n",
       "0                  None  female                   Other  \n",
       "1                  None  female                   Other  \n",
       "2                  None    male                   Other  \n",
       "3                  None  female                   Other  \n",
       "4                  None    male                   Other  \n",
       "...                 ...     ...                     ...  \n",
       "274951             None    None                   Other  \n",
       "274952             None    None                   Other  \n",
       "274953             None    None                   Other  \n",
       "274954             None    None  Contact with confirmed  \n",
       "274955             None    None                   Other  \n",
       "\n",
       "[274956 rows x 9 columns]"
      ]
     },
     "execution_count": 14,
     "metadata": {},
     "output_type": "execute_result"
    }
   ],
   "source": [
    "df"
   ]
  },
  {
   "cell_type": "code",
   "execution_count": 15,
   "metadata": {},
   "outputs": [],
   "source": [
    "columns_list = df.columns.tolist()"
   ]
  },
  {
   "cell_type": "code",
   "execution_count": 16,
   "metadata": {},
   "outputs": [
    {
     "name": "stdout",
     "output_type": "stream",
     "text": [
      "cough\n",
      "[0, 1, '0', '1', 'None']\n",
      "****************************************************************************************************\n",
      "fever\n",
      "[0, 1, '0', '1', 'None']\n",
      "****************************************************************************************************\n",
      "sore_throat\n",
      "[0, 1, '0', '1', 'None']\n",
      "****************************************************************************************************\n",
      "shortness_of_breath\n",
      "[0, 1, '0', '1', 'None']\n",
      "****************************************************************************************************\n",
      "head_ache\n",
      "[0, 1, '0', '1', 'None']\n",
      "****************************************************************************************************\n",
      "corona_result\n",
      "['negative', 'positive']\n",
      "****************************************************************************************************\n",
      "age_60_and_above\n",
      "['None', 'Yes', 'No']\n",
      "****************************************************************************************************\n",
      "gender\n",
      "['female', 'male', 'None']\n",
      "****************************************************************************************************\n",
      "test_indication\n",
      "['Other', 'Abroad', 'Contact with confirmed']\n",
      "****************************************************************************************************\n"
     ]
    }
   ],
   "source": [
    "for col in columns_list:\n",
    "    print(col)\n",
    "    print(df[col].unique().tolist())\n",
    "    print(\"*\"*100)"
   ]
  },
  {
   "cell_type": "code",
   "execution_count": 17,
   "metadata": {},
   "outputs": [
    {
     "name": "stdout",
     "output_type": "stream",
     "text": [
      "<class 'pandas.core.frame.DataFrame'>\n",
      "RangeIndex: 274956 entries, 0 to 274955\n",
      "Data columns (total 9 columns):\n",
      " #   Column               Non-Null Count   Dtype \n",
      "---  ------               --------------   ----- \n",
      " 0   cough                274956 non-null  object\n",
      " 1   fever                274956 non-null  object\n",
      " 2   sore_throat          274956 non-null  object\n",
      " 3   shortness_of_breath  274956 non-null  object\n",
      " 4   head_ache            274956 non-null  object\n",
      " 5   corona_result        274956 non-null  object\n",
      " 6   age_60_and_above     274956 non-null  object\n",
      " 7   gender               274956 non-null  object\n",
      " 8   test_indication      274956 non-null  object\n",
      "dtypes: object(9)\n",
      "memory usage: 18.9+ MB\n"
     ]
    }
   ],
   "source": [
    "df.info()"
   ]
  },
  {
   "cell_type": "code",
   "execution_count": 18,
   "metadata": {},
   "outputs": [
    {
     "data": {
      "text/plain": [
       "cough                     252\n",
       "fever                     252\n",
       "sore_throat                 1\n",
       "shortness_of_breath         1\n",
       "head_ache                   1\n",
       "corona_result               0\n",
       "age_60_and_above       125664\n",
       "gender                  19045\n",
       "test_indication             0\n",
       "dtype: int64"
      ]
     },
     "execution_count": 18,
     "metadata": {},
     "output_type": "execute_result"
    }
   ],
   "source": [
    "for col in columns_list:\n",
    "    df[col].replace({'None': np.nan}, inplace=True)\n",
    "df.isnull().sum()"
   ]
  },
  {
   "cell_type": "code",
   "execution_count": 19,
   "metadata": {},
   "outputs": [],
   "source": [
    "# dropping cough, fever, sorethroat, head_ache, shortness_of_breath null values\n",
    "df.dropna(subset=['cough', 'fever', 'sore_throat', 'shortness_of_breath', 'head_ache'],inplace=True)"
   ]
  },
  {
   "cell_type": "code",
   "execution_count": 20,
   "metadata": {},
   "outputs": [
    {
     "data": {
      "text/plain": [
       "cough                       0\n",
       "fever                       0\n",
       "sore_throat                 0\n",
       "shortness_of_breath         0\n",
       "head_ache                   0\n",
       "corona_result               0\n",
       "age_60_and_above       125659\n",
       "gender                  19034\n",
       "test_indication             0\n",
       "dtype: int64"
      ]
     },
     "execution_count": 20,
     "metadata": {},
     "output_type": "execute_result"
    }
   ],
   "source": [
    "df.isna().sum()"
   ]
  },
  {
   "cell_type": "code",
   "execution_count": 21,
   "metadata": {},
   "outputs": [],
   "source": [
    "df['age_60_and_above'].fillna(value='No', inplace=True)"
   ]
  },
  {
   "cell_type": "code",
   "execution_count": 22,
   "metadata": {},
   "outputs": [
    {
     "data": {
      "text/plain": [
       "cough                      0\n",
       "fever                      0\n",
       "sore_throat                0\n",
       "shortness_of_breath        0\n",
       "head_ache                  0\n",
       "corona_result              0\n",
       "age_60_and_above           0\n",
       "gender                 19034\n",
       "test_indication            0\n",
       "dtype: int64"
      ]
     },
     "execution_count": 22,
     "metadata": {},
     "output_type": "execute_result"
    }
   ],
   "source": [
    "df.isna().sum()"
   ]
  },
  {
   "cell_type": "code",
   "execution_count": 23,
   "metadata": {},
   "outputs": [],
   "source": [
    "df = df.astype({'cough': int, 'fever': int, 'sore_throat': int, 'shortness_of_breath': int, 'head_ache': int})"
   ]
  },
  {
   "cell_type": "code",
   "execution_count": 24,
   "metadata": {},
   "outputs": [
    {
     "name": "stdout",
     "output_type": "stream",
     "text": [
      "<class 'pandas.core.frame.DataFrame'>\n",
      "Int64Index: 274702 entries, 0 to 274955\n",
      "Data columns (total 9 columns):\n",
      " #   Column               Non-Null Count   Dtype \n",
      "---  ------               --------------   ----- \n",
      " 0   cough                274702 non-null  int32 \n",
      " 1   fever                274702 non-null  int32 \n",
      " 2   sore_throat          274702 non-null  int32 \n",
      " 3   shortness_of_breath  274702 non-null  int32 \n",
      " 4   head_ache            274702 non-null  int32 \n",
      " 5   corona_result        274702 non-null  object\n",
      " 6   age_60_and_above     274702 non-null  object\n",
      " 7   gender               255668 non-null  object\n",
      " 8   test_indication      274702 non-null  object\n",
      "dtypes: int32(5), object(4)\n",
      "memory usage: 15.7+ MB\n"
     ]
    }
   ],
   "source": [
    "df.info()"
   ]
  },
  {
   "cell_type": "code",
   "execution_count": 25,
   "metadata": {},
   "outputs": [
    {
     "data": {
      "text/plain": [
       "(274702, 9)"
      ]
     },
     "execution_count": 25,
     "metadata": {},
     "output_type": "execute_result"
    }
   ],
   "source": [
    "df.shape"
   ]
  },
  {
   "cell_type": "code",
   "execution_count": 26,
   "metadata": {},
   "outputs": [
    {
     "data": {
      "text/plain": [
       "array(['negative', 'positive'], dtype=object)"
      ]
     },
     "execution_count": 26,
     "metadata": {},
     "output_type": "execute_result"
    }
   ],
   "source": [
    "# one hot encoding for model buidling\n",
    "df['corona_result'].unique()"
   ]
  },
  {
   "cell_type": "code",
   "execution_count": 27,
   "metadata": {},
   "outputs": [],
   "source": [
    "df['corona_result'].replace({'negative': 0, 'positive': 1}, inplace=True)"
   ]
  },
  {
   "cell_type": "code",
   "execution_count": 28,
   "metadata": {},
   "outputs": [],
   "source": [
    "df['age_60_and_above'].replace({'No': 0, 'Yes': 1}, inplace=True)"
   ]
  },
  {
   "cell_type": "code",
   "execution_count": 29,
   "metadata": {},
   "outputs": [],
   "source": [
    "df['test_indication'].replace({'Other': 0, 'Abroad': 1,'Contact with confirmed': 2}, inplace=True)"
   ]
  },
  {
   "cell_type": "code",
   "execution_count": 30,
   "metadata": {},
   "outputs": [],
   "source": [
    "df['gender'].replace({'female': 0, 'male': 1}, inplace=True)"
   ]
  },
  {
   "cell_type": "code",
   "execution_count": 31,
   "metadata": {},
   "outputs": [],
   "source": [
    "df.dropna(inplace=True)"
   ]
  },
  {
   "cell_type": "code",
   "execution_count": 32,
   "metadata": {},
   "outputs": [
    {
     "data": {
      "text/plain": [
       "cough                  0\n",
       "fever                  0\n",
       "sore_throat            0\n",
       "shortness_of_breath    0\n",
       "head_ache              0\n",
       "corona_result          0\n",
       "age_60_and_above       0\n",
       "gender                 0\n",
       "test_indication        0\n",
       "dtype: int64"
      ]
     },
     "execution_count": 32,
     "metadata": {},
     "output_type": "execute_result"
    }
   ],
   "source": [
    "df.isna().sum()"
   ]
  },
  {
   "cell_type": "code",
   "execution_count": 33,
   "metadata": {},
   "outputs": [
    {
     "data": {
      "text/plain": [
       "(255668, 9)"
      ]
     },
     "execution_count": 33,
     "metadata": {},
     "output_type": "execute_result"
    }
   ],
   "source": [
    "df.shape"
   ]
  },
  {
   "cell_type": "code",
   "execution_count": 34,
   "metadata": {},
   "outputs": [
    {
     "data": {
      "text/html": [
       "<div>\n",
       "<style scoped>\n",
       "    .dataframe tbody tr th:only-of-type {\n",
       "        vertical-align: middle;\n",
       "    }\n",
       "\n",
       "    .dataframe tbody tr th {\n",
       "        vertical-align: top;\n",
       "    }\n",
       "\n",
       "    .dataframe thead th {\n",
       "        text-align: right;\n",
       "    }\n",
       "</style>\n",
       "<table border=\"1\" class=\"dataframe\">\n",
       "  <thead>\n",
       "    <tr style=\"text-align: right;\">\n",
       "      <th></th>\n",
       "      <th>count</th>\n",
       "      <th>mean</th>\n",
       "      <th>std</th>\n",
       "      <th>min</th>\n",
       "      <th>25%</th>\n",
       "      <th>50%</th>\n",
       "      <th>75%</th>\n",
       "      <th>max</th>\n",
       "    </tr>\n",
       "  </thead>\n",
       "  <tbody>\n",
       "    <tr>\n",
       "      <th>cough</th>\n",
       "      <td>255668.0</td>\n",
       "      <td>0.152745</td>\n",
       "      <td>0.359742</td>\n",
       "      <td>0.0</td>\n",
       "      <td>0.0</td>\n",
       "      <td>0.0</td>\n",
       "      <td>0.0</td>\n",
       "      <td>1.0</td>\n",
       "    </tr>\n",
       "    <tr>\n",
       "      <th>fever</th>\n",
       "      <td>255668.0</td>\n",
       "      <td>0.077655</td>\n",
       "      <td>0.267629</td>\n",
       "      <td>0.0</td>\n",
       "      <td>0.0</td>\n",
       "      <td>0.0</td>\n",
       "      <td>0.0</td>\n",
       "      <td>1.0</td>\n",
       "    </tr>\n",
       "    <tr>\n",
       "      <th>sore_throat</th>\n",
       "      <td>255668.0</td>\n",
       "      <td>0.005851</td>\n",
       "      <td>0.076270</td>\n",
       "      <td>0.0</td>\n",
       "      <td>0.0</td>\n",
       "      <td>0.0</td>\n",
       "      <td>0.0</td>\n",
       "      <td>1.0</td>\n",
       "    </tr>\n",
       "    <tr>\n",
       "      <th>shortness_of_breath</th>\n",
       "      <td>255668.0</td>\n",
       "      <td>0.004216</td>\n",
       "      <td>0.064797</td>\n",
       "      <td>0.0</td>\n",
       "      <td>0.0</td>\n",
       "      <td>0.0</td>\n",
       "      <td>0.0</td>\n",
       "      <td>1.0</td>\n",
       "    </tr>\n",
       "    <tr>\n",
       "      <th>head_ache</th>\n",
       "      <td>255668.0</td>\n",
       "      <td>0.008226</td>\n",
       "      <td>0.090321</td>\n",
       "      <td>0.0</td>\n",
       "      <td>0.0</td>\n",
       "      <td>0.0</td>\n",
       "      <td>0.0</td>\n",
       "      <td>1.0</td>\n",
       "    </tr>\n",
       "    <tr>\n",
       "      <th>corona_result</th>\n",
       "      <td>255668.0</td>\n",
       "      <td>0.052928</td>\n",
       "      <td>0.223890</td>\n",
       "      <td>0.0</td>\n",
       "      <td>0.0</td>\n",
       "      <td>0.0</td>\n",
       "      <td>0.0</td>\n",
       "      <td>1.0</td>\n",
       "    </tr>\n",
       "    <tr>\n",
       "      <th>age_60_and_above</th>\n",
       "      <td>255668.0</td>\n",
       "      <td>0.092702</td>\n",
       "      <td>0.290015</td>\n",
       "      <td>0.0</td>\n",
       "      <td>0.0</td>\n",
       "      <td>0.0</td>\n",
       "      <td>0.0</td>\n",
       "      <td>1.0</td>\n",
       "    </tr>\n",
       "    <tr>\n",
       "      <th>gender</th>\n",
       "      <td>255668.0</td>\n",
       "      <td>0.497735</td>\n",
       "      <td>0.499996</td>\n",
       "      <td>0.0</td>\n",
       "      <td>0.0</td>\n",
       "      <td>0.0</td>\n",
       "      <td>1.0</td>\n",
       "      <td>1.0</td>\n",
       "    </tr>\n",
       "    <tr>\n",
       "      <th>test_indication</th>\n",
       "      <td>255668.0</td>\n",
       "      <td>0.166212</td>\n",
       "      <td>0.462200</td>\n",
       "      <td>0.0</td>\n",
       "      <td>0.0</td>\n",
       "      <td>0.0</td>\n",
       "      <td>0.0</td>\n",
       "      <td>2.0</td>\n",
       "    </tr>\n",
       "  </tbody>\n",
       "</table>\n",
       "</div>"
      ],
      "text/plain": [
       "                        count      mean       std  min  25%  50%  75%  max\n",
       "cough                255668.0  0.152745  0.359742  0.0  0.0  0.0  0.0  1.0\n",
       "fever                255668.0  0.077655  0.267629  0.0  0.0  0.0  0.0  1.0\n",
       "sore_throat          255668.0  0.005851  0.076270  0.0  0.0  0.0  0.0  1.0\n",
       "shortness_of_breath  255668.0  0.004216  0.064797  0.0  0.0  0.0  0.0  1.0\n",
       "head_ache            255668.0  0.008226  0.090321  0.0  0.0  0.0  0.0  1.0\n",
       "corona_result        255668.0  0.052928  0.223890  0.0  0.0  0.0  0.0  1.0\n",
       "age_60_and_above     255668.0  0.092702  0.290015  0.0  0.0  0.0  0.0  1.0\n",
       "gender               255668.0  0.497735  0.499996  0.0  0.0  0.0  1.0  1.0\n",
       "test_indication      255668.0  0.166212  0.462200  0.0  0.0  0.0  0.0  2.0"
      ]
     },
     "execution_count": 34,
     "metadata": {},
     "output_type": "execute_result"
    }
   ],
   "source": [
    "df.describe().T"
   ]
  },
  {
   "cell_type": "markdown",
   "metadata": {},
   "source": [
    "### EDA "
   ]
  },
  {
   "cell_type": "code",
   "execution_count": 41,
   "metadata": {},
   "outputs": [
    {
     "data": {
      "text/plain": [
       "['cough',\n",
       " 'fever',\n",
       " 'sore_throat',\n",
       " 'shortness_of_breath',\n",
       " 'head_ache',\n",
       " 'age_60_and_above',\n",
       " 'gender',\n",
       " 'test_indication']"
      ]
     },
     "execution_count": 41,
     "metadata": {},
     "output_type": "execute_result"
    }
   ],
   "source": [
    "feature_columns = ['cough', 'fever', 'sore_throat', 'shortness_of_breath', 'head_ache', 'age_60_and_above', 'gender', 'test_indication']\n",
    "feature_columns"
   ]
  },
  {
   "cell_type": "code",
   "execution_count": 42,
   "metadata": {},
   "outputs": [
    {
     "data": {
      "image/png": "[encoded data removed]",
      "text/plain": [
       "<Figure size 720x576 with 8 Axes>"
      ]
     },
     "metadata": {
      "needs_background": "light"
     },
     "output_type": "display_data"
    }
   ],
   "source": [
    "nrows = 4\n",
    "ncols = 2\n",
    "counter = 0\n",
    "fig, ax = plt.subplots(ncols=ncols, nrows=nrows, figsize=(10,8))\n",
    "for i in range(nrows):\n",
    "    for j in range(ncols):\n",
    "        group_df = df.groupby(feature_columns[counter])['corona_result'].count().reset_index().rename(columns={'corona_result': 'Count'})\n",
    "        sns.barplot(data=group_df, x=feature_columns[counter], y='Count', ax=ax[i][j], palette='Set1')\n",
    "        plt.tight_layout()\n",
    "        counter = counter + 1\n",
    "plt.show()"
   ]
  },
  {
   "cell_type": "code",
   "execution_count": 46,
   "metadata": {},
   "outputs": [
    {
     "data": {
      "text/html": [
       "<div>\n",
       "<style scoped>\n",
       "    .dataframe tbody tr th:only-of-type {\n",
       "        vertical-align: middle;\n",
       "    }\n",
       "\n",
       "    .dataframe tbody tr th {\n",
       "        vertical-align: top;\n",
       "    }\n",
       "\n",
       "    .dataframe thead th {\n",
       "        text-align: right;\n",
       "    }\n",
       "</style>\n",
       "<table border=\"1\" class=\"dataframe\">\n",
       "  <thead>\n",
       "    <tr style=\"text-align: right;\">\n",
       "      <th></th>\n",
       "      <th>corona_result</th>\n",
       "      <th>Count</th>\n",
       "    </tr>\n",
       "  </thead>\n",
       "  <tbody>\n",
       "    <tr>\n",
       "      <th>0</th>\n",
       "      <td>0</td>\n",
       "      <td>242136</td>\n",
       "    </tr>\n",
       "    <tr>\n",
       "      <th>1</th>\n",
       "      <td>1</td>\n",
       "      <td>13532</td>\n",
       "    </tr>\n",
       "  </tbody>\n",
       "</table>\n",
       "</div>"
      ],
      "text/plain": [
       "   corona_result   Count\n",
       "0              0  242136\n",
       "1              1   13532"
      ]
     },
     "execution_count": 46,
     "metadata": {},
     "output_type": "execute_result"
    }
   ],
   "source": [
    "df_corona_result = df.groupby('corona_result')['cough'].count().reset_index().rename(columns={'cough': 'Count'})\n",
    "df_corona_result"
   ]
  },
  {
   "cell_type": "code",
   "execution_count": 47,
   "metadata": {},
   "outputs": [
    {
     "data": {
      "text/plain": [
       "<AxesSubplot:xlabel='corona_result', ylabel='Count'>"
      ]
     },
     "execution_count": 47,
     "metadata": {},
     "output_type": "execute_result"
    },
    {
     "data": {
      "image/png": "[encoded data removed]",
      "text/plain": [
       "<Figure size 432x288 with 1 Axes>"
      ]
     },
     "metadata": {
      "needs_background": "light"
     },
     "output_type": "display_data"
    }
   ],
   "source": [
    "sns.barplot(x='corona_result', y='Count', data=df_corona_result)"
   ]
  },
  {
   "cell_type": "markdown",
   "metadata": {},
   "source": [
    "### Corona Result wise feature counts "
   ]
  },
  {
   "cell_type": "markdown",
   "metadata": {},
   "source": [
    "### Cough"
   ]
  },
  {
   "cell_type": "code",
   "execution_count": 55,
   "metadata": {},
   "outputs": [
    {
     "data": {
      "image/png": "[encoded data removed]",
      "text/plain": [
       "<Figure size 440x216 with 2 Axes>"
      ]
     },
     "metadata": {
      "needs_background": "light"
     },
     "output_type": "display_data"
    }
   ],
   "source": [
    "graph = sns.FacetGrid(df, col='corona_result')\n",
    "graph.map(sns.countplot, 'cough', edgecolor =\"w\").add_legend()\n",
    "plt.show()"
   ]
  },
  {
   "cell_type": "markdown",
   "metadata": {},
   "source": [
    "### fever"
   ]
  },
  {
   "cell_type": "code",
   "execution_count": 56,
   "metadata": {},
   "outputs": [
    {
     "data": {
      "image/png": "[encoded data removed]",
      "text/plain": [
       "<Figure size 440x216 with 2 Axes>"
      ]
     },
     "metadata": {
      "needs_background": "light"
     },
     "output_type": "display_data"
    }
   ],
   "source": [
    "graph = sns.FacetGrid(df, col='corona_result')\n",
    "graph.map(sns.countplot, 'fever', edgecolor =\"w\").add_legend()\n",
    "plt.show()"
   ]
  },
  {
   "cell_type": "markdown",
   "metadata": {},
   "source": [
    "### sore_throat"
   ]
  },
  {
   "cell_type": "code",
   "execution_count": 57,
   "metadata": {},
   "outputs": [
    {
     "data": {
      "image/png": "[encoded data removed]",
      "text/plain": [
       "<Figure size 440x216 with 2 Axes>"
      ]
     },
     "metadata": {
      "needs_background": "light"
     },
     "output_type": "display_data"
    }
   ],
   "source": [
    "graph = sns.FacetGrid(df, col='corona_result')\n",
    "graph.map(sns.countplot, 'sore_throat', edgecolor =\"w\").add_legend()\n",
    "plt.show()"
   ]
  },
  {
   "cell_type": "markdown",
   "metadata": {},
   "source": [
    "### shortness_of_breath"
   ]
  },
  {
   "cell_type": "code",
   "execution_count": 59,
   "metadata": {},
   "outputs": [
    {
     "data": {
      "image/png": "[encoded data removed]",
      "text/plain": [
       "<Figure size 440x216 with 2 Axes>"
      ]
     },
     "metadata": {
      "needs_background": "light"
     },
     "output_type": "display_data"
    }
   ],
   "source": [
    "graph = sns.FacetGrid(df, col='corona_result')\n",
    "graph.map(sns.countplot, 'shortness_of_breath', edgecolor =\"w\").add_legend()\n",
    "plt.show()"
   ]
  },
  {
   "cell_type": "markdown",
   "metadata": {},
   "source": [
    "### head_ache"
   ]
  },
  {
   "cell_type": "code",
   "execution_count": 60,
   "metadata": {},
   "outputs": [
    {
     "data": {
      "image/png": "[encoded data removed]",
      "text/plain": [
       "<Figure size 440x216 with 2 Axes>"
      ]
     },
     "metadata": {
      "needs_background": "light"
     },
     "output_type": "display_data"
    }
   ],
   "source": [
    "graph = sns.FacetGrid(df, col='corona_result')\n",
    "graph.map(sns.countplot, 'head_ache', edgecolor =\"w\").add_legend()\n",
    "plt.show()"
   ]
  },
  {
   "cell_type": "markdown",
   "metadata": {},
   "source": [
    "### This plotting indicates that our data is imbalanced and need to perform some synthesizing before performing model"
   ]
  },
  {
   "cell_type": "code",
   "execution_count": 63,
   "metadata": {},
   "outputs": [],
   "source": [
    "df.to_csv('Cleaned_covid_symptoms_prediction.csv')"
   ]
  },
  {
   "cell_type": "code",
   "execution_count": 64,
   "metadata": {},
   "outputs": [],
   "source": [
    "# !pip install imbalanced-learn"
   ]
  },
  {
   "cell_type": "code",
   "execution_count": 65,
   "metadata": {},
   "outputs": [
    {
     "data": {
      "text/plain": [
       "['cough',\n",
       " 'fever',\n",
       " 'sore_throat',\n",
       " 'shortness_of_breath',\n",
       " 'head_ache',\n",
       " 'age_60_and_above',\n",
       " 'gender',\n",
       " 'test_indication']"
      ]
     },
     "execution_count": 65,
     "metadata": {},
     "output_type": "execute_result"
    }
   ],
   "source": [
    "features_columns  =  [x for x in df.columns.tolist() if x!='corona_result']\n",
    "features_columns"
   ]
  },
  {
   "cell_type": "code",
   "execution_count": 66,
   "metadata": {},
   "outputs": [],
   "source": [
    "feature_values = df[features_columns].values.tolist()\n",
    "target_values = df['corona_result'].values.tolist()"
   ]
  },
  {
   "cell_type": "code",
   "execution_count": 67,
   "metadata": {},
   "outputs": [
    {
     "name": "stdout",
     "output_type": "stream",
     "text": [
      "Counter({0: 242136, 1: 13532})\n"
     ]
    }
   ],
   "source": [
    "counter = Counter(target_values)\n",
    "print(counter)"
   ]
  },
  {
   "cell_type": "markdown",
   "metadata": {},
   "source": [
    "## Model Building for imbalanced data and checking accuracy"
   ]
  },
  {
   "cell_type": "markdown",
   "metadata": {},
   "source": [
    "<p> The imbalanced-learn library supports random undersampling via the RandomUnderSampler class.\n",
    "\n",
    "We can update the example to first oversample the minority class to have 10 percent the number of examples of the majority class (e.g. about 1,000), then use random undersampling to reduce the number of examples in the majority class to have 50 percent more than the minority class (e.g. about 2,000). </p>"
   ]
  },
  {
   "cell_type": "markdown",
   "metadata": {},
   "source": [
    "### Performing SMTOE for imbalanced dataset"
   ]
  },
  {
   "cell_type": "code",
   "execution_count": 85,
   "metadata": {},
   "outputs": [],
   "source": [
    "# over = SMOTE(sampling_strategy=0.1)\n",
    "over = SMOTE()\n",
    "# under = RandomUnderSampler(sampling_strategy=0.5)\n",
    "# steps = [('o', over), ('u', under)]\n",
    "steps = [('o', over)]\n",
    "pipeline = Pipeline(steps=steps)"
   ]
  },
  {
   "cell_type": "markdown",
   "metadata": {},
   "source": [
    "### transform the dataset"
   ]
  },
  {
   "cell_type": "code",
   "execution_count": 86,
   "metadata": {},
   "outputs": [],
   "source": [
    "ub_feature_values, ub_target_values = pipeline.fit_resample(feature_values, target_values)"
   ]
  },
  {
   "cell_type": "code",
   "execution_count": 87,
   "metadata": {},
   "outputs": [
    {
     "name": "stdout",
     "output_type": "stream",
     "text": [
      "Counter({0: 242136, 1: 242136})\n"
     ]
    }
   ],
   "source": [
    "ub_counter = Counter(ub_target_values)\n",
    "print(ub_counter)"
   ]
  },
  {
   "cell_type": "markdown",
   "metadata": {},
   "source": [
    "### Building model with default max_depth value i.e. None"
   ]
  },
  {
   "cell_type": "code",
   "execution_count": 78,
   "metadata": {},
   "outputs": [
    {
     "name": "stdout",
     "output_type": "stream",
     "text": [
      "Mean Accuracy Curve: 0.950\n"
     ]
    }
   ],
   "source": [
    "x_model = DecisionTreeClassifier()\n",
    "x_over = SMOTE(sampling_strategy=0.1)\n",
    "x_under = RandomUnderSampler(sampling_strategy=0.5)\n",
    "steps = [('over', x_over), ('under', x_under), ('model', x_model)]\n",
    "pipeline = Pipeline(steps=steps)\n",
    "# evaluate pipeline\n",
    "cv = RepeatedStratifiedKFold(n_splits=10, n_repeats=3, random_state=1)\n",
    "scores = cross_val_score(pipeline, feature_values, target_values, scoring='accuracy', cv=cv, n_jobs=-1)\n",
    "print('Mean Accuracy Curve: %.3f' % mean(scores))"
   ]
  },
  {
   "cell_type": "code",
   "execution_count": 88,
   "metadata": {},
   "outputs": [
    {
     "name": "stdout",
     "output_type": "stream",
     "text": [
      "Mean Accuracy Curve: 0.907\n"
     ]
    }
   ],
   "source": [
    "x_model = DecisionTreeClassifier()\n",
    "x_over = SMOTE()\n",
    "x_under = RandomUnderSampler(sampling_strategy=0.5)\n",
    "steps = [('over', x_over), ('model', x_model)]\n",
    "pipeline = Pipeline(steps=steps)\n",
    "# evaluate pipeline\n",
    "cv = RepeatedStratifiedKFold(n_splits=10, n_repeats=3, random_state=1)\n",
    "scores = cross_val_score(pipeline, feature_values, target_values, scoring='accuracy', cv=cv, n_jobs=-1)\n",
    "print('Mean Accuracy Curve: %.3f' % mean(scores))"
   ]
  },
  {
   "cell_type": "markdown",
   "metadata": {},
   "source": [
    "### evaluate decision tree performance on train and test sets with different tree depths"
   ]
  },
  {
   "cell_type": "code",
   "execution_count": 79,
   "metadata": {},
   "outputs": [
    {
     "name": "stdout",
     "output_type": "stream",
     "text": [
      "              precision    recall  f1-score   support\n",
      "\n",
      "           0       0.80      0.99      0.89     14547\n",
      "           1       0.96      0.51      0.66      7245\n",
      "\n",
      "    accuracy                           0.83     21792\n",
      "   macro avg       0.88      0.75      0.77     21792\n",
      "weighted avg       0.85      0.83      0.81     21792\n",
      "\n",
      ">1, train: 0.826, test: 0.829\n",
      "              precision    recall  f1-score   support\n",
      "\n",
      "           0       0.87      0.93      0.90     14547\n",
      "           1       0.83      0.71      0.77      7245\n",
      "\n",
      "    accuracy                           0.86     21792\n",
      "   macro avg       0.85      0.82      0.83     21792\n",
      "weighted avg       0.86      0.86      0.85     21792\n",
      "\n",
      ">2, train: 0.853, test: 0.857\n",
      "              precision    recall  f1-score   support\n",
      "\n",
      "           0       0.88      0.93      0.90     14547\n",
      "           1       0.84      0.74      0.78      7245\n",
      "\n",
      "    accuracy                           0.86     21792\n",
      "   macro avg       0.86      0.83      0.84     21792\n",
      "weighted avg       0.86      0.86      0.86     21792\n",
      "\n",
      ">3, train: 0.863, test: 0.865\n",
      "              precision    recall  f1-score   support\n",
      "\n",
      "           0       0.88      0.93      0.90     14547\n",
      "           1       0.84      0.74      0.78      7245\n",
      "\n",
      "    accuracy                           0.86     21792\n",
      "   macro avg       0.86      0.83      0.84     21792\n",
      "weighted avg       0.86      0.86      0.86     21792\n",
      "\n",
      ">4, train: 0.863, test: 0.865\n",
      "              precision    recall  f1-score   support\n",
      "\n",
      "           0       0.87      0.96      0.91     14547\n",
      "           1       0.90      0.71      0.79      7245\n",
      "\n",
      "    accuracy                           0.88     21792\n",
      "   macro avg       0.88      0.84      0.85     21792\n",
      "weighted avg       0.88      0.88      0.87     21792\n",
      "\n",
      ">5, train: 0.875, test: 0.877\n",
      "              precision    recall  f1-score   support\n",
      "\n",
      "           0       0.88      0.96      0.92     14547\n",
      "           1       0.90      0.73      0.80      7245\n",
      "\n",
      "    accuracy                           0.88     21792\n",
      "   macro avg       0.89      0.84      0.86     21792\n",
      "weighted avg       0.88      0.88      0.88     21792\n",
      "\n",
      ">6, train: 0.880, test: 0.881\n",
      "              precision    recall  f1-score   support\n",
      "\n",
      "           0       0.88      0.96      0.92     14547\n",
      "           1       0.90      0.74      0.81      7245\n",
      "\n",
      "    accuracy                           0.88     21792\n",
      "   macro avg       0.89      0.85      0.86     21792\n",
      "weighted avg       0.89      0.88      0.88     21792\n",
      "\n",
      ">7, train: 0.882, test: 0.884\n",
      "              precision    recall  f1-score   support\n",
      "\n",
      "           0       0.87      0.97      0.92     14547\n",
      "           1       0.91      0.72      0.81      7245\n",
      "\n",
      "    accuracy                           0.89     21792\n",
      "   macro avg       0.89      0.84      0.86     21792\n",
      "weighted avg       0.89      0.89      0.88     21792\n",
      "\n",
      ">8, train: 0.882, test: 0.885\n",
      "              precision    recall  f1-score   support\n",
      "\n",
      "           0       0.88      0.96      0.92     14547\n",
      "           1       0.91      0.73      0.81      7245\n",
      "\n",
      "    accuracy                           0.89     21792\n",
      "   macro avg       0.89      0.85      0.86     21792\n",
      "weighted avg       0.89      0.89      0.88     21792\n",
      "\n",
      ">9, train: 0.883, test: 0.886\n",
      "              precision    recall  f1-score   support\n",
      "\n",
      "           0       0.88      0.96      0.92     14547\n",
      "           1       0.91      0.73      0.81      7245\n",
      "\n",
      "    accuracy                           0.89     21792\n",
      "   macro avg       0.89      0.85      0.86     21792\n",
      "weighted avg       0.89      0.89      0.88     21792\n",
      "\n",
      ">10, train: 0.883, test: 0.886\n",
      "              precision    recall  f1-score   support\n",
      "\n",
      "           0       0.88      0.96      0.92     14547\n",
      "           1       0.91      0.73      0.81      7245\n",
      "\n",
      "    accuracy                           0.89     21792\n",
      "   macro avg       0.89      0.85      0.86     21792\n",
      "weighted avg       0.89      0.89      0.88     21792\n",
      "\n",
      ">11, train: 0.883, test: 0.886\n",
      "              precision    recall  f1-score   support\n",
      "\n",
      "           0       0.88      0.96      0.92     14547\n",
      "           1       0.91      0.73      0.81      7245\n",
      "\n",
      "    accuracy                           0.89     21792\n",
      "   macro avg       0.89      0.85      0.86     21792\n",
      "weighted avg       0.89      0.89      0.88     21792\n",
      "\n",
      ">12, train: 0.883, test: 0.886\n",
      "              precision    recall  f1-score   support\n",
      "\n",
      "           0       0.88      0.96      0.92     14547\n",
      "           1       0.91      0.73      0.81      7245\n",
      "\n",
      "    accuracy                           0.89     21792\n",
      "   macro avg       0.89      0.85      0.86     21792\n",
      "weighted avg       0.89      0.89      0.88     21792\n",
      "\n",
      ">13, train: 0.883, test: 0.886\n",
      "              precision    recall  f1-score   support\n",
      "\n",
      "           0       0.88      0.96      0.92     14547\n",
      "           1       0.91      0.73      0.81      7245\n",
      "\n",
      "    accuracy                           0.89     21792\n",
      "   macro avg       0.89      0.85      0.86     21792\n",
      "weighted avg       0.89      0.89      0.88     21792\n",
      "\n",
      ">14, train: 0.883, test: 0.886\n",
      "              precision    recall  f1-score   support\n",
      "\n",
      "           0       0.88      0.96      0.92     14547\n",
      "           1       0.91      0.73      0.81      7245\n",
      "\n",
      "    accuracy                           0.89     21792\n",
      "   macro avg       0.89      0.85      0.86     21792\n",
      "weighted avg       0.89      0.89      0.88     21792\n",
      "\n",
      ">15, train: 0.883, test: 0.886\n",
      "              precision    recall  f1-score   support\n",
      "\n",
      "           0       0.88      0.96      0.92     14547\n",
      "           1       0.91      0.73      0.81      7245\n",
      "\n",
      "    accuracy                           0.89     21792\n",
      "   macro avg       0.89      0.85      0.86     21792\n",
      "weighted avg       0.89      0.89      0.88     21792\n",
      "\n",
      ">16, train: 0.883, test: 0.886\n",
      "              precision    recall  f1-score   support\n",
      "\n",
      "           0       0.88      0.96      0.92     14547\n",
      "           1       0.91      0.73      0.81      7245\n",
      "\n",
      "    accuracy                           0.89     21792\n",
      "   macro avg       0.89      0.85      0.86     21792\n",
      "weighted avg       0.89      0.89      0.88     21792\n",
      "\n",
      ">17, train: 0.883, test: 0.886\n",
      "              precision    recall  f1-score   support\n",
      "\n",
      "           0       0.88      0.96      0.92     14547\n",
      "           1       0.91      0.73      0.81      7245\n",
      "\n",
      "    accuracy                           0.89     21792\n",
      "   macro avg       0.89      0.85      0.86     21792\n",
      "weighted avg       0.89      0.89      0.88     21792\n",
      "\n",
      ">18, train: 0.883, test: 0.886\n",
      "              precision    recall  f1-score   support\n",
      "\n",
      "           0       0.88      0.96      0.92     14547\n",
      "           1       0.91      0.73      0.81      7245\n",
      "\n",
      "    accuracy                           0.89     21792\n",
      "   macro avg       0.89      0.85      0.86     21792\n",
      "weighted avg       0.89      0.89      0.88     21792\n",
      "\n",
      ">19, train: 0.883, test: 0.886\n",
      "              precision    recall  f1-score   support\n",
      "\n",
      "           0       0.88      0.96      0.92     14547\n",
      "           1       0.91      0.73      0.81      7245\n",
      "\n",
      "    accuracy                           0.89     21792\n",
      "   macro avg       0.89      0.85      0.86     21792\n",
      "weighted avg       0.89      0.89      0.88     21792\n",
      "\n",
      ">20, train: 0.883, test: 0.886\n"
     ]
    },
    {
     "data": {
      "image/png": "[encoded data removed]",
      "text/plain": [
       "<Figure size 432x288 with 1 Axes>"
      ]
     },
     "metadata": {
      "needs_background": "light"
     },
     "output_type": "display_data"
    }
   ],
   "source": [
    "# # split into train test sets\n",
    "# from sklearn.metrics import classification_report\n",
    "# X_train, X_test, y_train, y_test = train_test_split(ub_feature_values, ub_target_values, test_size=0.3)\n",
    "# # define lists to collect scores\n",
    "# train_scores, test_scores = list(), list()\n",
    "# # define the tree depths to evaluate\n",
    "# values = [i for i in range(1, 21)]\n",
    "# # evaluate a decision tree for each depth\n",
    "# for i in values:\n",
    "#     # configure the model\n",
    "#     model = DecisionTreeClassifier(max_depth=i)\n",
    "#     # fit model on the training dataset\n",
    "#     model.fit(X_train, y_train)\n",
    "#     # evaluate on the train dataset\n",
    "#     train_yhat = model.predict(X_train)\n",
    "#     train_acc = accuracy_score(y_train, train_yhat)\n",
    "#     train_scores.append(train_acc)\n",
    "#     # evaluate on the test dataset\n",
    "#     test_yhat = model.predict(X_test)\n",
    "#     test_acc = accuracy_score(y_test, test_yhat)\n",
    "#     test_scores.append(test_acc)\n",
    "#     print(classification_report(y_test, test_yhat))\n",
    "#     # summarize progress\n",
    "#     print('>%d, train: %.3f, test: %.3f' % (i, train_acc, test_acc))\n",
    "# # plot of train and test scores vs tree depth\n",
    "# plt.plot(values, train_scores, '-o', label='Train')\n",
    "# plt.plot(values, test_scores, '-o', label='Test')\n",
    "# plt.legend()\n",
    "# plt.show()"
   ]
  },
  {
   "cell_type": "code",
   "execution_count": 89,
   "metadata": {},
   "outputs": [
    {
     "name": "stdout",
     "output_type": "stream",
     "text": [
      "              precision    recall  f1-score   support\n",
      "\n",
      "           0       0.67      0.99      0.80     72648\n",
      "           1       0.98      0.50      0.67     72634\n",
      "\n",
      "    accuracy                           0.75    145282\n",
      "   macro avg       0.82      0.75      0.73    145282\n",
      "weighted avg       0.82      0.75      0.73    145282\n",
      "\n",
      ">1, train: 0.746, test: 0.746\n",
      "              precision    recall  f1-score   support\n",
      "\n",
      "           0       0.76      0.93      0.84     72648\n",
      "           1       0.91      0.71      0.80     72634\n",
      "\n",
      "    accuracy                           0.82    145282\n",
      "   macro avg       0.84      0.82      0.82    145282\n",
      "weighted avg       0.84      0.82      0.82    145282\n",
      "\n",
      ">2, train: 0.817, test: 0.818\n",
      "              precision    recall  f1-score   support\n",
      "\n",
      "           0       0.81      0.85      0.83     72648\n",
      "           1       0.84      0.80      0.82     72634\n",
      "\n",
      "    accuracy                           0.82    145282\n",
      "   macro avg       0.82      0.82      0.82    145282\n",
      "weighted avg       0.82      0.82      0.82    145282\n",
      "\n",
      ">3, train: 0.823, test: 0.822\n",
      "              precision    recall  f1-score   support\n",
      "\n",
      "           0       0.78      0.92      0.84     72648\n",
      "           1       0.90      0.75      0.82     72634\n",
      "\n",
      "    accuracy                           0.83    145282\n",
      "   macro avg       0.84      0.83      0.83    145282\n",
      "weighted avg       0.84      0.83      0.83    145282\n",
      "\n",
      ">4, train: 0.831, test: 0.832\n",
      "              precision    recall  f1-score   support\n",
      "\n",
      "           0       0.78      0.94      0.85     72648\n",
      "           1       0.93      0.74      0.82     72634\n",
      "\n",
      "    accuracy                           0.84    145282\n",
      "   macro avg       0.85      0.84      0.84    145282\n",
      "weighted avg       0.85      0.84      0.84    145282\n",
      "\n",
      ">5, train: 0.839, test: 0.840\n",
      "              precision    recall  f1-score   support\n",
      "\n",
      "           0       0.79      0.94      0.86     72648\n",
      "           1       0.93      0.75      0.83     72634\n",
      "\n",
      "    accuracy                           0.85    145282\n",
      "   macro avg       0.86      0.85      0.84    145282\n",
      "weighted avg       0.86      0.85      0.84    145282\n",
      "\n",
      ">6, train: 0.846, test: 0.846\n",
      "              precision    recall  f1-score   support\n",
      "\n",
      "           0       0.82      0.90      0.86     72648\n",
      "           1       0.89      0.80      0.84     72634\n",
      "\n",
      "    accuracy                           0.85    145282\n",
      "   macro avg       0.85      0.85      0.85    145282\n",
      "weighted avg       0.85      0.85      0.85    145282\n",
      "\n",
      ">7, train: 0.850, test: 0.851\n",
      "              precision    recall  f1-score   support\n",
      "\n",
      "           0       0.81      0.91      0.86     72648\n",
      "           1       0.90      0.79      0.84     72634\n",
      "\n",
      "    accuracy                           0.85    145282\n",
      "   macro avg       0.86      0.85      0.85    145282\n",
      "weighted avg       0.86      0.85      0.85    145282\n",
      "\n",
      ">8, train: 0.853, test: 0.853\n",
      "              precision    recall  f1-score   support\n",
      "\n",
      "           0       0.82      0.91      0.86     72648\n",
      "           1       0.90      0.79      0.84     72634\n",
      "\n",
      "    accuracy                           0.85    145282\n",
      "   macro avg       0.86      0.85      0.85    145282\n",
      "weighted avg       0.86      0.85      0.85    145282\n",
      "\n",
      ">9, train: 0.853, test: 0.853\n",
      "              precision    recall  f1-score   support\n",
      "\n",
      "           0       0.81      0.91      0.86     72648\n",
      "           1       0.90      0.79      0.84     72634\n",
      "\n",
      "    accuracy                           0.85    145282\n",
      "   macro avg       0.86      0.85      0.85    145282\n",
      "weighted avg       0.86      0.85      0.85    145282\n",
      "\n",
      ">10, train: 0.853, test: 0.853\n",
      "              precision    recall  f1-score   support\n",
      "\n",
      "           0       0.81      0.91      0.86     72648\n",
      "           1       0.90      0.79      0.84     72634\n",
      "\n",
      "    accuracy                           0.85    145282\n",
      "   macro avg       0.86      0.85      0.85    145282\n",
      "weighted avg       0.86      0.85      0.85    145282\n",
      "\n",
      ">11, train: 0.853, test: 0.853\n",
      "              precision    recall  f1-score   support\n",
      "\n",
      "           0       0.81      0.91      0.86     72648\n",
      "           1       0.90      0.79      0.84     72634\n",
      "\n",
      "    accuracy                           0.85    145282\n",
      "   macro avg       0.86      0.85      0.85    145282\n",
      "weighted avg       0.86      0.85      0.85    145282\n",
      "\n",
      ">12, train: 0.853, test: 0.853\n",
      "              precision    recall  f1-score   support\n",
      "\n",
      "           0       0.81      0.91      0.86     72648\n",
      "           1       0.90      0.79      0.84     72634\n",
      "\n",
      "    accuracy                           0.85    145282\n",
      "   macro avg       0.86      0.85      0.85    145282\n",
      "weighted avg       0.86      0.85      0.85    145282\n",
      "\n",
      ">13, train: 0.853, test: 0.853\n",
      "              precision    recall  f1-score   support\n",
      "\n",
      "           0       0.81      0.91      0.86     72648\n",
      "           1       0.90      0.79      0.84     72634\n",
      "\n",
      "    accuracy                           0.85    145282\n",
      "   macro avg       0.86      0.85      0.85    145282\n",
      "weighted avg       0.86      0.85      0.85    145282\n",
      "\n",
      ">14, train: 0.853, test: 0.853\n",
      "              precision    recall  f1-score   support\n",
      "\n",
      "           0       0.81      0.91      0.86     72648\n",
      "           1       0.90      0.79      0.84     72634\n",
      "\n",
      "    accuracy                           0.85    145282\n",
      "   macro avg       0.86      0.85      0.85    145282\n",
      "weighted avg       0.86      0.85      0.85    145282\n",
      "\n",
      ">15, train: 0.853, test: 0.853\n",
      "              precision    recall  f1-score   support\n",
      "\n",
      "           0       0.81      0.91      0.86     72648\n",
      "           1       0.90      0.79      0.84     72634\n",
      "\n",
      "    accuracy                           0.85    145282\n",
      "   macro avg       0.86      0.85      0.85    145282\n",
      "weighted avg       0.86      0.85      0.85    145282\n",
      "\n",
      ">16, train: 0.853, test: 0.853\n",
      "              precision    recall  f1-score   support\n",
      "\n",
      "           0       0.81      0.91      0.86     72648\n",
      "           1       0.90      0.79      0.84     72634\n",
      "\n",
      "    accuracy                           0.85    145282\n",
      "   macro avg       0.86      0.85      0.85    145282\n",
      "weighted avg       0.86      0.85      0.85    145282\n",
      "\n",
      ">17, train: 0.853, test: 0.853\n",
      "              precision    recall  f1-score   support\n",
      "\n",
      "           0       0.81      0.91      0.86     72648\n",
      "           1       0.90      0.79      0.84     72634\n",
      "\n",
      "    accuracy                           0.85    145282\n",
      "   macro avg       0.86      0.85      0.85    145282\n",
      "weighted avg       0.86      0.85      0.85    145282\n",
      "\n",
      ">18, train: 0.853, test: 0.853\n",
      "              precision    recall  f1-score   support\n",
      "\n",
      "           0       0.81      0.91      0.86     72648\n",
      "           1       0.90      0.79      0.84     72634\n",
      "\n",
      "    accuracy                           0.85    145282\n",
      "   macro avg       0.86      0.85      0.85    145282\n",
      "weighted avg       0.86      0.85      0.85    145282\n",
      "\n",
      ">19, train: 0.853, test: 0.853\n",
      "              precision    recall  f1-score   support\n",
      "\n",
      "           0       0.81      0.91      0.86     72648\n",
      "           1       0.90      0.79      0.84     72634\n",
      "\n",
      "    accuracy                           0.85    145282\n",
      "   macro avg       0.86      0.85      0.85    145282\n",
      "weighted avg       0.86      0.85      0.85    145282\n",
      "\n",
      ">20, train: 0.853, test: 0.853\n"
     ]
    },
    {
     "data": {
      "image/png": "[encoded data removed]",
      "text/plain": [
       "<Figure size 432x288 with 1 Axes>"
      ]
     },
     "metadata": {
      "needs_background": "light"
     },
     "output_type": "display_data"
    }
   ],
   "source": [
    "# split into train test sets\n",
    "from sklearn.metrics import classification_report\n",
    "X_train, X_test, y_train, y_test = train_test_split(ub_feature_values, ub_target_values, test_size=0.3, random_state=42)\n",
    "# define lists to collect scores\n",
    "train_scores, test_scores = list(), list()\n",
    "# define the tree depths to evaluate\n",
    "values = [i for i in range(1, 21)]\n",
    "# evaluate a decision tree for each depth\n",
    "for i in values:\n",
    "    # configure the model\n",
    "    model = DecisionTreeClassifier(max_depth=i)\n",
    "    # fit model on the training dataset\n",
    "    model.fit(X_train, y_train)\n",
    "    # evaluate on the train dataset\n",
    "    train_yhat = model.predict(X_train)\n",
    "    train_acc = accuracy_score(y_train, train_yhat)\n",
    "    train_scores.append(train_acc)\n",
    "    # evaluate on the test dataset\n",
    "    test_yhat = model.predict(X_test)\n",
    "    test_acc = accuracy_score(y_test, test_yhat)\n",
    "    test_scores.append(test_acc)\n",
    "    print(classification_report(y_test, test_yhat))\n",
    "    # summarize progress\n",
    "    print('>%d, train: %.3f, test: %.3f' % (i, train_acc, test_acc))\n",
    "# plot of train and test scores vs tree depth\n",
    "plt.plot(values, train_scores, '-o', label='Train')\n",
    "plt.plot(values, test_scores, '-o', label='Test')\n",
    "plt.legend()\n",
    "plt.show()"
   ]
  },
  {
   "cell_type": "markdown",
   "metadata": {},
   "source": [
    "### Building KNN model with default values"
   ]
  },
  {
   "cell_type": "code",
   "execution_count": 83,
   "metadata": {},
   "outputs": [
    {
     "name": "stdout",
     "output_type": "stream",
     "text": [
      "Mean Accuracy Curve: 0.959\n"
     ]
    }
   ],
   "source": [
    "knn_model = KNeighborsClassifier()\n",
    "knn_over = SMOTE(sampling_strategy=0.1)\n",
    "knn_under = RandomUnderSampler(sampling_strategy=0.5)\n",
    "steps = [('over', knn_over), ('under', knn_under), ('model', knn_model)]\n",
    "pipeline = Pipeline(steps=steps)\n",
    "# evaluate pipeline\n",
    "cv = RepeatedStratifiedKFold(n_splits=10, n_repeats=3, random_state=1)\n",
    "scores = cross_val_score(pipeline, feature_values, target_values, scoring='accuracy', cv=cv, n_jobs=-1)\n",
    "print('Mean Accuracy Curve: %.3f' % mean(scores))"
   ]
  },
  {
   "cell_type": "markdown",
   "metadata": {},
   "source": [
    "### evaluate KNearestNeighbour performance on train and test sets with different number of neighbours"
   ]
  },
  {
   "cell_type": "code",
   "execution_count": 84,
   "metadata": {},
   "outputs": [
    {
     "name": "stdout",
     "output_type": "stream",
     "text": [
      ">1, train: 0.928, test: 0.928\n",
      "              precision    recall  f1-score   support\n",
      "\n",
      "           0       0.95      0.97      0.96     72680\n",
      "           1       0.61      0.54      0.57      7225\n",
      "\n",
      "    accuracy                           0.93     79905\n",
      "   macro avg       0.78      0.75      0.77     79905\n",
      "weighted avg       0.92      0.93      0.93     79905\n",
      "\n",
      ">2, train: 0.940, test: 0.939\n",
      "              precision    recall  f1-score   support\n",
      "\n",
      "           0       0.95      0.99      0.97     72680\n",
      "           1       0.79      0.45      0.57      7225\n",
      "\n",
      "    accuracy                           0.94     79905\n",
      "   macro avg       0.87      0.72      0.77     79905\n",
      "weighted avg       0.93      0.94      0.93     79905\n",
      "\n",
      ">3, train: 0.950, test: 0.951\n",
      "              precision    recall  f1-score   support\n",
      "\n",
      "           0       0.96      0.98      0.97     72680\n",
      "           1       0.78      0.63      0.70      7225\n",
      "\n",
      "    accuracy                           0.95     79905\n",
      "   macro avg       0.87      0.80      0.83     79905\n",
      "weighted avg       0.95      0.95      0.95     79905\n",
      "\n",
      ">4, train: 0.950, test: 0.950\n",
      "              precision    recall  f1-score   support\n",
      "\n",
      "           0       0.96      0.98      0.97     72680\n",
      "           1       0.78      0.62      0.69      7225\n",
      "\n",
      "    accuracy                           0.95     79905\n",
      "   macro avg       0.87      0.80      0.83     79905\n",
      "weighted avg       0.95      0.95      0.95     79905\n",
      "\n",
      ">5, train: 0.953, test: 0.952\n",
      "              precision    recall  f1-score   support\n",
      "\n",
      "           0       0.97      0.98      0.97     72680\n",
      "           1       0.78      0.66      0.71      7225\n",
      "\n",
      "    accuracy                           0.95     79905\n",
      "   macro avg       0.87      0.82      0.84     79905\n",
      "weighted avg       0.95      0.95      0.95     79905\n",
      "\n",
      ">6, train: 0.955, test: 0.955\n",
      "              precision    recall  f1-score   support\n",
      "\n",
      "           0       0.96      0.99      0.98     72680\n",
      "           1       0.82      0.64      0.72      7225\n",
      "\n",
      "    accuracy                           0.95     79905\n",
      "   macro avg       0.89      0.81      0.85     79905\n",
      "weighted avg       0.95      0.95      0.95     79905\n",
      "\n",
      ">7, train: 0.955, test: 0.955\n",
      "              precision    recall  f1-score   support\n",
      "\n",
      "           0       0.97      0.99      0.98     72680\n",
      "           1       0.82      0.65      0.72      7225\n",
      "\n",
      "    accuracy                           0.96     79905\n",
      "   macro avg       0.89      0.82      0.85     79905\n",
      "weighted avg       0.95      0.96      0.95     79905\n",
      "\n",
      ">8, train: 0.955, test: 0.955\n",
      "              precision    recall  f1-score   support\n",
      "\n",
      "           0       0.97      0.99      0.98     72680\n",
      "           1       0.82      0.64      0.72      7225\n",
      "\n",
      "    accuracy                           0.96     79905\n",
      "   macro avg       0.89      0.82      0.85     79905\n",
      "weighted avg       0.95      0.96      0.95     79905\n",
      "\n",
      ">9, train: 0.956, test: 0.956\n",
      "              precision    recall  f1-score   support\n",
      "\n",
      "           0       0.97      0.99      0.98     72680\n",
      "           1       0.82      0.65      0.73      7225\n",
      "\n",
      "    accuracy                           0.96     79905\n",
      "   macro avg       0.89      0.82      0.85     79905\n",
      "weighted avg       0.95      0.96      0.95     79905\n",
      "\n"
     ]
    },
    {
     "data": {
      "image/png": "[encoded data removed]",
      "text/plain": [
       "<Figure size 432x288 with 1 Axes>"
      ]
     },
     "metadata": {
      "needs_background": "light"
     },
     "output_type": "display_data"
    }
   ],
   "source": [
    "# split into train test sets\n",
    "from sklearn.metrics import classification_report\n",
    "X_train, X_test, y_train, y_test = train_test_split(ub_feature_values, ub_target_values, test_size=0.3)\n",
    "# define lists to collect scores\n",
    "train_scores, test_scores = list(), list()\n",
    "# define the number of neighbour to evaluate\n",
    "values = [i for i in range(1, 10)]\n",
    "# evaluate a KNNeighbour tree for each depth\n",
    "for i in values:\n",
    "    # configure the model\n",
    "    model = KNeighborsClassifier(n_neighbors=i)\n",
    "    # fit model on the training dataset\n",
    "    model.fit(X_train, y_train)\n",
    "    # evaluate on the train dataset\n",
    "    train_yhat = model.predict(X_train)\n",
    "    train_acc = accuracy_score(y_train, train_yhat)\n",
    "    train_scores.append(train_acc)\n",
    "    # evaluate on the test dataset\n",
    "    test_yhat = model.predict(X_test)\n",
    "    test_acc = accuracy_score(y_test, test_yhat)\n",
    "    test_scores.append(test_acc)\n",
    "    # summarize progress\n",
    "    print('>%d, train: %.3f, test: %.3f' % (i, train_acc, test_acc))\n",
    "    print(classification_report(y_test, test_yhat))\n",
    "# plot of train and test scores vs tree depth\n",
    "plt.plot(values, train_scores, '-o', label='Train')\n",
    "plt.plot(values, test_scores, '-o', label='Test')\n",
    "plt.legend()\n",
    "plt.show()"
   ]
  },
  {
   "cell_type": "markdown",
   "metadata": {},
   "source": [
    "### Final Model buidling"
   ]
  },
  {
   "cell_type": "code",
   "execution_count": null,
   "metadata": {},
   "outputs": [],
   "source": [
    "# def predictModel(df):\n",
    "#     features_columns  =  [x for x in df.columns.tolist() if x!='corona_result']\n",
    "#     target_values = df['corona_result'].values.tolist()\n",
    "#     counter = Counter(target_values)\n",
    "#     print(counter)\n",
    "#     over = SMOTE(sampling_strategy=0.1)\n",
    "#     under = RandomUnderSampler(sampling_strategy=0.5)\n",
    "#     steps = [('o', over), ('u', under)]\n",
    "#     pipeline = Pipeline(steps=steps)\n",
    "#     ub_feature_values, ub_target_values = pipeline.fit_resample(feature_values, target_values)\n",
    "#     ub_counter = Counter(ub_target_values)\n",
    "#     print(ub_counter)\n",
    "#     model = DecisionTreeClassifier(max_depth=10)\n",
    "#     # fit model on the training dataset\n",
    "#     model_fit = model.fit(X_train, y_train)\n",
    "#     return model_fit"
   ]
  },
  {
   "cell_type": "code",
   "execution_count": 90,
   "metadata": {},
   "outputs": [],
   "source": [
    "def predictModel(df):\n",
    "    features_columns  =  [x for x in df.columns.tolist() if x!='corona_result']\n",
    "    target_values = df['corona_result'].values.tolist()\n",
    "    counter = Counter(target_values)\n",
    "    print(counter)\n",
    "    over = SMOTE()\n",
    "#     under = RandomUnderSampler(sampling_strategy=0.5)\n",
    "    steps = [('o', over), ('u', under)]\n",
    "    steps = [('o', over)]\n",
    "    pipeline = Pipeline(steps=steps)\n",
    "    ub_feature_values, ub_target_values = pipeline.fit_resample(feature_values, target_values)\n",
    "    ub_counter = Counter(ub_target_values)\n",
    "    print(ub_counter)\n",
    "    model = DecisionTreeClassifier(max_depth=10)\n",
    "    # fit model on the training dataset\n",
    "    model_fit = model.fit(X_train, y_train)\n",
    "    return model_fit"
   ]
  },
  {
   "cell_type": "code",
   "execution_count": 91,
   "metadata": {},
   "outputs": [],
   "source": [
    "def predictSymptoms(model, symptoms_list):\n",
    "    test_list = np.array([symptoms_list])\n",
    "    prediction = model.predict(test_list)\n",
    "    print(prediction)\n",
    "    if prediction == 0:\n",
    "        print('No covid')\n",
    "    else:\n",
    "        print('Covid symptoms are found, please isolate yourself and get yourself tested')"
   ]
  },
  {
   "cell_type": "code",
   "execution_count": 92,
   "metadata": {},
   "outputs": [],
   "source": [
    "cleaned_df = pd.read_csv('Cleaned_covid_symptoms_prediction.csv')"
   ]
  },
  {
   "cell_type": "code",
   "execution_count": 93,
   "metadata": {},
   "outputs": [
    {
     "data": {
      "text/plain": [
       "['cough',\n",
       " 'fever',\n",
       " 'sore_throat',\n",
       " 'shortness_of_breath',\n",
       " 'head_ache',\n",
       " 'corona_result',\n",
       " 'age_60_and_above',\n",
       " 'gender',\n",
       " 'test_indication']"
      ]
     },
     "execution_count": 93,
     "metadata": {},
     "output_type": "execute_result"
    }
   ],
   "source": [
    "df.columns.to_list()"
   ]
  },
  {
   "cell_type": "code",
   "execution_count": 100,
   "metadata": {},
   "outputs": [
    {
     "name": "stdout",
     "output_type": "stream",
     "text": [
      "Counter({0: 242136, 1: 13532})\n",
      "Counter({0: 242136, 1: 242136})\n",
      "[1]\n",
      "Covid symptoms are found, please isolate yourself and get yourself tested\n"
     ]
    }
   ],
   "source": [
    "decisonTreeModel = predictModel(cleaned_df)\n",
    "test_list = [1, 0, 0, 1, 0, 0, 0, 0]\n",
    "predictSymptoms(decisonTreeModel, test_list)"
   ]
  },
  {
   "cell_type": "code",
   "execution_count": null,
   "metadata": {},
   "outputs": [],
   "source": []
  }
 ],
 "metadata": {
  "kernelspec": {
   "display_name": "Python 3",
   "language": "python",
   "name": "python3"
  },
  "language_info": {
   "codemirror_mode": {
    "name": "ipython",
    "version": 3
   },
   "file_extension": ".py",
   "mimetype": "text/x-python",
   "name": "python",
   "nbconvert_exporter": "python",
   "pygments_lexer": "ipython3",
   "version": "3.8.5"
  }
 },
 "nbformat": 4,
 "nbformat_minor": 4
}
